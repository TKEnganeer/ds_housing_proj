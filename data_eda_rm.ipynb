{
 "cells": [
  {
   "cell_type": "code",
   "execution_count": 4,
   "metadata": {},
   "outputs": [],
   "source": [
    "import pandas as pd\n",
    "import matplotlib.pyplot as plt\n",
    "import seaborn as sns"
   ]
  },
  {
   "cell_type": "code",
   "execution_count": 5,
   "metadata": {},
   "outputs": [],
   "source": [
    "df = pd.read_csv('rm_data_cleaned.csv')"
   ]
  },
  {
   "cell_type": "code",
   "execution_count": 36,
   "metadata": {},
   "outputs": [
    {
     "data": {
      "text/html": [
       "<div>\n",
       "<style scoped>\n",
       "    .dataframe tbody tr th:only-of-type {\n",
       "        vertical-align: middle;\n",
       "    }\n",
       "\n",
       "    .dataframe tbody tr th {\n",
       "        vertical-align: top;\n",
       "    }\n",
       "\n",
       "    .dataframe thead th {\n",
       "        text-align: right;\n",
       "    }\n",
       "</style>\n",
       "<table border=\"1\" class=\"dataframe\">\n",
       "  <thead>\n",
       "    <tr style=\"text-align: right;\">\n",
       "      <th></th>\n",
       "      <th>Property</th>\n",
       "      <th>Address</th>\n",
       "      <th>Description</th>\n",
       "      <th>Price</th>\n",
       "      <th>Date Posted</th>\n",
       "      <th>Seller</th>\n",
       "      <th>Image</th>\n",
       "      <th>price_val</th>\n",
       "      <th>luton_yn</th>\n",
       "      <th>essex_yn</th>\n",
       "      <th>braintree_yn</th>\n",
       "      <th>l_garden_yn</th>\n",
       "      <th>garden_yn</th>\n",
       "      <th>exten_yn</th>\n",
       "      <th>location_simp</th>\n",
       "      <th>description_simp</th>\n",
       "    </tr>\n",
       "  </thead>\n",
       "  <tbody>\n",
       "    <tr>\n",
       "      <th>0</th>\n",
       "      <td>3 bedroom semi-detached house</td>\n",
       "      <td>Kirkwood Road, Luton</td>\n",
       "      <td>A well presented THREE bedroom semi-detached F...</td>\n",
       "      <td>£300,000</td>\n",
       "      <td>18/08/2020</td>\n",
       "      <td>Zebra Properties, Houghton Regis</td>\n",
       "      <td>https://media.rightmove.co.uk:443/dir/crop/10:...</td>\n",
       "      <td>300000</td>\n",
       "      <td>1</td>\n",
       "      <td>0</td>\n",
       "      <td>0</td>\n",
       "      <td>0</td>\n",
       "      <td>1</td>\n",
       "      <td>0</td>\n",
       "      <td>luton</td>\n",
       "      <td>garden_features</td>\n",
       "    </tr>\n",
       "    <tr>\n",
       "      <th>1</th>\n",
       "      <td>3 bedroom semi-detached house</td>\n",
       "      <td>Ashby Road, Witham, Essex</td>\n",
       "      <td>Looking for your next family home? Then this i...</td>\n",
       "      <td>£300,000</td>\n",
       "      <td>19/08/2020</td>\n",
       "      <td>Leaders Sales, Witham</td>\n",
       "      <td>https://media.rightmove.co.uk:443/dir/crop/10:...</td>\n",
       "      <td>300000</td>\n",
       "      <td>0</td>\n",
       "      <td>1</td>\n",
       "      <td>0</td>\n",
       "      <td>0</td>\n",
       "      <td>0</td>\n",
       "      <td>0</td>\n",
       "      <td>essex</td>\n",
       "      <td>na</td>\n",
       "    </tr>\n",
       "    <tr>\n",
       "      <th>2</th>\n",
       "      <td>3 bedroom semi-detached house</td>\n",
       "      <td>Paynters Mead, Basildon</td>\n",
       "      <td>OPEN HOUSE SATURDAY 22ND AUGUST 11am to 12pm T...</td>\n",
       "      <td>£300,000</td>\n",
       "      <td>19/08/2020</td>\n",
       "      <td>Yopa, East Anglia</td>\n",
       "      <td>https://media.rightmove.co.uk:443/dir/crop/10:...</td>\n",
       "      <td>300000</td>\n",
       "      <td>0</td>\n",
       "      <td>0</td>\n",
       "      <td>0</td>\n",
       "      <td>0</td>\n",
       "      <td>1</td>\n",
       "      <td>0</td>\n",
       "      <td>basildon</td>\n",
       "      <td>garden_features</td>\n",
       "    </tr>\n",
       "    <tr>\n",
       "      <th>3</th>\n",
       "      <td>3 bedroom semi-detached house</td>\n",
       "      <td>Vange Hill Drive, Basildon</td>\n",
       "      <td>Designed for convenience is this three bedroom...</td>\n",
       "      <td>£300,000</td>\n",
       "      <td>09/03/2020</td>\n",
       "      <td>haart, Basildon</td>\n",
       "      <td>https://media.rightmove.co.uk:443/dir/crop/10:...</td>\n",
       "      <td>300000</td>\n",
       "      <td>0</td>\n",
       "      <td>0</td>\n",
       "      <td>0</td>\n",
       "      <td>0</td>\n",
       "      <td>0</td>\n",
       "      <td>0</td>\n",
       "      <td>basildon</td>\n",
       "      <td>london_features</td>\n",
       "    </tr>\n",
       "    <tr>\n",
       "      <th>4</th>\n",
       "      <td>3 bedroom detached house</td>\n",
       "      <td>Hockliffe Road, Leighton Buzzard, Bedfordshire</td>\n",
       "      <td>SQUARES THE ESTATE AGENT ARE PLEASED TO OFFER ...</td>\n",
       "      <td>£300,000</td>\n",
       "      <td>23/05/2020</td>\n",
       "      <td>Squares Estate Agents, Leighton Buzzard</td>\n",
       "      <td>https://media.rightmove.co.uk:443/dir/crop/10:...</td>\n",
       "      <td>300000</td>\n",
       "      <td>0</td>\n",
       "      <td>0</td>\n",
       "      <td>0</td>\n",
       "      <td>0</td>\n",
       "      <td>1</td>\n",
       "      <td>1</td>\n",
       "      <td>na</td>\n",
       "      <td>large_features</td>\n",
       "    </tr>\n",
       "  </tbody>\n",
       "</table>\n",
       "</div>"
      ],
      "text/plain": [
       "                         Property  \\\n",
       "0  3 bedroom semi-detached house    \n",
       "1  3 bedroom semi-detached house    \n",
       "2  3 bedroom semi-detached house    \n",
       "3  3 bedroom semi-detached house    \n",
       "4       3 bedroom detached house    \n",
       "\n",
       "                                          Address  \\\n",
       "0                            Kirkwood Road, Luton   \n",
       "1                       Ashby Road, Witham, Essex   \n",
       "2                         Paynters Mead, Basildon   \n",
       "3                      Vange Hill Drive, Basildon   \n",
       "4  Hockliffe Road, Leighton Buzzard, Bedfordshire   \n",
       "\n",
       "                                         Description     Price  Date Posted  \\\n",
       "0  A well presented THREE bedroom semi-detached F...  £300,000   18/08/2020   \n",
       "1  Looking for your next family home? Then this i...  £300,000   19/08/2020   \n",
       "2  OPEN HOUSE SATURDAY 22ND AUGUST 11am to 12pm T...  £300,000   19/08/2020   \n",
       "3  Designed for convenience is this three bedroom...  £300,000   09/03/2020   \n",
       "4  SQUARES THE ESTATE AGENT ARE PLEASED TO OFFER ...  £300,000   23/05/2020   \n",
       "\n",
       "                                    Seller  \\\n",
       "0         Zebra Properties, Houghton Regis   \n",
       "1                    Leaders Sales, Witham   \n",
       "2                        Yopa, East Anglia   \n",
       "3                          haart, Basildon   \n",
       "4  Squares Estate Agents, Leighton Buzzard   \n",
       "\n",
       "                                               Image  price_val  luton_yn  \\\n",
       "0  https://media.rightmove.co.uk:443/dir/crop/10:...     300000         1   \n",
       "1  https://media.rightmove.co.uk:443/dir/crop/10:...     300000         0   \n",
       "2  https://media.rightmove.co.uk:443/dir/crop/10:...     300000         0   \n",
       "3  https://media.rightmove.co.uk:443/dir/crop/10:...     300000         0   \n",
       "4  https://media.rightmove.co.uk:443/dir/crop/10:...     300000         0   \n",
       "\n",
       "   essex_yn  braintree_yn  l_garden_yn  garden_yn  exten_yn location_simp  \\\n",
       "0         0             0            0          1         0         luton   \n",
       "1         1             0            0          0         0         essex   \n",
       "2         0             0            0          1         0      basildon   \n",
       "3         0             0            0          0         0      basildon   \n",
       "4         0             0            0          1         1            na   \n",
       "\n",
       "  description_simp  \n",
       "0  garden_features  \n",
       "1               na  \n",
       "2  garden_features  \n",
       "3  london_features  \n",
       "4   large_features  "
      ]
     },
     "execution_count": 36,
     "metadata": {},
     "output_type": "execute_result"
    }
   ],
   "source": [
    "df.head()"
   ]
  },
  {
   "cell_type": "code",
   "execution_count": 35,
   "metadata": {},
   "outputs": [
    {
     "data": {
      "text/plain": [
       "Index(['Property', 'Address', 'Description', 'Price', 'Date Posted', 'Seller',\n",
       "       'Image', 'price_val', 'luton_yn', 'essex_yn', 'braintree_yn',\n",
       "       'l_garden_yn', 'garden_yn', 'exten_yn', 'location_simp',\n",
       "       'description_simp'],\n",
       "      dtype='object')"
      ]
     },
     "execution_count": 35,
     "metadata": {},
     "output_type": "execute_result"
    }
   ],
   "source": [
    "df.columns"
   ]
  },
  {
   "cell_type": "code",
   "execution_count": 34,
   "metadata": {
    "scrolled": true
   },
   "outputs": [],
   "source": [
    "df.drop('Unnamed: 0', inplace = True, axis = 1)"
   ]
  },
  {
   "cell_type": "code",
   "execution_count": 30,
   "metadata": {},
   "outputs": [],
   "source": [
    "def location_simplifier(address):\n",
    "    if 'luton' in address.lower():\n",
    "        return 'luton'\n",
    "    elif 'essex' in address.lower():\n",
    "        return 'essex'\n",
    "    elif 'basildon' in address.lower():\n",
    "        return 'basildon'\n",
    "    elif 'braintree' in address.lower():\n",
    "        return 'essex'\n",
    "    elif 'hitchin' in address.lower():\n",
    "        return 'luton'\n",
    "    elif 'chelmsford' in address.lower():\n",
    "        return 'chelmsford'\n",
    "    elif 'alesbury' in address.lower():\n",
    "        return 'alesbury'\n",
    "    elif 'bexleyheath' in address.lower():\n",
    "        return 'bexleyheath'\n",
    "    else:\n",
    "        return 'na'\n",
    "    \n",
    "def h_features(description):\n",
    "    if 'large' in description.lower():\n",
    "        return 'large_features'\n",
    "    elif 'garden' in description.lower():\n",
    "        return 'garden_features'\n",
    "    elif 'london' in description.lower():\n",
    "        return 'london_features'\n",
    "    elif 'spacious' in description.lower():\n",
    "        return 'spacious_features'\n",
    "    elif 'exten' in description.lower():\n",
    "        return 'extension_features'\n",
    "    else:\n",
    "        return 'na'\n",
    "    "
   ]
  },
  {
   "cell_type": "code",
   "execution_count": 11,
   "metadata": {},
   "outputs": [],
   "source": [
    "df['location_simp'] = df['Address'].apply(location_simplifier)"
   ]
  },
  {
   "cell_type": "code",
   "execution_count": 12,
   "metadata": {},
   "outputs": [
    {
     "data": {
      "text/plain": [
       "na             122\n",
       "luton          104\n",
       "essex           77\n",
       "basildon         6\n",
       "chelmsford       2\n",
       "bexleyheath      2\n",
       "Name: location_simp, dtype: int64"
      ]
     },
     "execution_count": 12,
     "metadata": {},
     "output_type": "execute_result"
    }
   ],
   "source": [
    "# Understnad the main locations\n",
    "df.location_simp.value_counts()"
   ]
  },
  {
   "cell_type": "code",
   "execution_count": 31,
   "metadata": {
    "scrolled": false
   },
   "outputs": [
    {
     "data": {
      "text/plain": [
       "na                    135\n",
       "garden_features        71\n",
       "spacious_features      42\n",
       "large_features         34\n",
       "extension_features     19\n",
       "london_features        12\n",
       "Name: description_simp, dtype: int64"
      ]
     },
     "execution_count": 31,
     "metadata": {},
     "output_type": "execute_result"
    }
   ],
   "source": [
    "# Potential of properties\n",
    "df['description_simp'] = df['Description'].apply(h_features)\n",
    "df.description_simp.value_counts()"
   ]
  },
  {
   "cell_type": "code",
   "execution_count": 38,
   "metadata": {
    "scrolled": true
   },
   "outputs": [
    {
     "data": {
      "text/plain": [
       "0      289\n",
       "1      268\n",
       "2      268\n",
       "3      175\n",
       "4      270\n",
       "      ... \n",
       "308    251\n",
       "309    147\n",
       "310    170\n",
       "311    103\n",
       "312     58\n",
       "Name: decs_len, Length: 313, dtype: int64"
      ]
     },
     "execution_count": 38,
     "metadata": {},
     "output_type": "execute_result"
    }
   ],
   "source": [
    "# House description length \n",
    "df['decs_len'] = df['Description'].apply(lambda x: len(x))\n",
    "df['decs_len']"
   ]
  },
  {
   "cell_type": "code",
   "execution_count": 39,
   "metadata": {},
   "outputs": [
    {
     "data": {
      "text/html": [
       "<div>\n",
       "<style scoped>\n",
       "    .dataframe tbody tr th:only-of-type {\n",
       "        vertical-align: middle;\n",
       "    }\n",
       "\n",
       "    .dataframe tbody tr th {\n",
       "        vertical-align: top;\n",
       "    }\n",
       "\n",
       "    .dataframe thead th {\n",
       "        text-align: right;\n",
       "    }\n",
       "</style>\n",
       "<table border=\"1\" class=\"dataframe\">\n",
       "  <thead>\n",
       "    <tr style=\"text-align: right;\">\n",
       "      <th></th>\n",
       "      <th>price_val</th>\n",
       "      <th>luton_yn</th>\n",
       "      <th>essex_yn</th>\n",
       "      <th>braintree_yn</th>\n",
       "      <th>l_garden_yn</th>\n",
       "      <th>garden_yn</th>\n",
       "      <th>exten_yn</th>\n",
       "      <th>decs_len</th>\n",
       "    </tr>\n",
       "  </thead>\n",
       "  <tbody>\n",
       "    <tr>\n",
       "      <th>count</th>\n",
       "      <td>313.000000</td>\n",
       "      <td>313.000000</td>\n",
       "      <td>313.000000</td>\n",
       "      <td>313.000000</td>\n",
       "      <td>313.000000</td>\n",
       "      <td>313.00000</td>\n",
       "      <td>313.00000</td>\n",
       "      <td>313.000000</td>\n",
       "    </tr>\n",
       "    <tr>\n",
       "      <th>mean</th>\n",
       "      <td>282763.019169</td>\n",
       "      <td>0.329073</td>\n",
       "      <td>0.092652</td>\n",
       "      <td>0.172524</td>\n",
       "      <td>0.009585</td>\n",
       "      <td>0.28115</td>\n",
       "      <td>0.13738</td>\n",
       "      <td>249.402556</td>\n",
       "    </tr>\n",
       "    <tr>\n",
       "      <th>std</th>\n",
       "      <td>22045.907618</td>\n",
       "      <td>0.470629</td>\n",
       "      <td>0.290408</td>\n",
       "      <td>0.378440</td>\n",
       "      <td>0.097587</td>\n",
       "      <td>0.45028</td>\n",
       "      <td>0.34480</td>\n",
       "      <td>58.902714</td>\n",
       "    </tr>\n",
       "    <tr>\n",
       "      <th>min</th>\n",
       "      <td>75000.000000</td>\n",
       "      <td>0.000000</td>\n",
       "      <td>0.000000</td>\n",
       "      <td>0.000000</td>\n",
       "      <td>0.000000</td>\n",
       "      <td>0.00000</td>\n",
       "      <td>0.00000</td>\n",
       "      <td>32.000000</td>\n",
       "    </tr>\n",
       "    <tr>\n",
       "      <th>25%</th>\n",
       "      <td>275000.000000</td>\n",
       "      <td>0.000000</td>\n",
       "      <td>0.000000</td>\n",
       "      <td>0.000000</td>\n",
       "      <td>0.000000</td>\n",
       "      <td>0.00000</td>\n",
       "      <td>0.00000</td>\n",
       "      <td>200.000000</td>\n",
       "    </tr>\n",
       "    <tr>\n",
       "      <th>50%</th>\n",
       "      <td>290000.000000</td>\n",
       "      <td>0.000000</td>\n",
       "      <td>0.000000</td>\n",
       "      <td>0.000000</td>\n",
       "      <td>0.000000</td>\n",
       "      <td>0.00000</td>\n",
       "      <td>0.00000</td>\n",
       "      <td>280.000000</td>\n",
       "    </tr>\n",
       "    <tr>\n",
       "      <th>75%</th>\n",
       "      <td>300000.000000</td>\n",
       "      <td>1.000000</td>\n",
       "      <td>0.000000</td>\n",
       "      <td>0.000000</td>\n",
       "      <td>0.000000</td>\n",
       "      <td>1.00000</td>\n",
       "      <td>0.00000</td>\n",
       "      <td>296.000000</td>\n",
       "    </tr>\n",
       "    <tr>\n",
       "      <th>max</th>\n",
       "      <td>300000.000000</td>\n",
       "      <td>1.000000</td>\n",
       "      <td>1.000000</td>\n",
       "      <td>1.000000</td>\n",
       "      <td>1.000000</td>\n",
       "      <td>1.00000</td>\n",
       "      <td>1.00000</td>\n",
       "      <td>300.000000</td>\n",
       "    </tr>\n",
       "  </tbody>\n",
       "</table>\n",
       "</div>"
      ],
      "text/plain": [
       "           price_val    luton_yn    essex_yn  braintree_yn  l_garden_yn  \\\n",
       "count     313.000000  313.000000  313.000000    313.000000   313.000000   \n",
       "mean   282763.019169    0.329073    0.092652      0.172524     0.009585   \n",
       "std     22045.907618    0.470629    0.290408      0.378440     0.097587   \n",
       "min     75000.000000    0.000000    0.000000      0.000000     0.000000   \n",
       "25%    275000.000000    0.000000    0.000000      0.000000     0.000000   \n",
       "50%    290000.000000    0.000000    0.000000      0.000000     0.000000   \n",
       "75%    300000.000000    1.000000    0.000000      0.000000     0.000000   \n",
       "max    300000.000000    1.000000    1.000000      1.000000     1.000000   \n",
       "\n",
       "       garden_yn   exten_yn    decs_len  \n",
       "count  313.00000  313.00000  313.000000  \n",
       "mean     0.28115    0.13738  249.402556  \n",
       "std      0.45028    0.34480   58.902714  \n",
       "min      0.00000    0.00000   32.000000  \n",
       "25%      0.00000    0.00000  200.000000  \n",
       "50%      0.00000    0.00000  280.000000  \n",
       "75%      1.00000    0.00000  296.000000  \n",
       "max      1.00000    1.00000  300.000000  "
      ]
     },
     "execution_count": 39,
     "metadata": {},
     "output_type": "execute_result"
    }
   ],
   "source": [
    "df.describe()"
   ]
  },
  {
   "cell_type": "code",
   "execution_count": 40,
   "metadata": {},
   "outputs": [
    {
     "data": {
      "text/plain": [
       "Index(['Property', 'Address', 'Description', 'Price', 'Date Posted', 'Seller',\n",
       "       'Image', 'price_val', 'luton_yn', 'essex_yn', 'braintree_yn',\n",
       "       'l_garden_yn', 'garden_yn', 'exten_yn', 'location_simp',\n",
       "       'description_simp', 'decs_len'],\n",
       "      dtype='object')"
      ]
     },
     "execution_count": 40,
     "metadata": {},
     "output_type": "execute_result"
    }
   ],
   "source": [
    "df.columns"
   ]
  },
  {
   "cell_type": "code",
   "execution_count": 41,
   "metadata": {},
   "outputs": [
    {
     "data": {
      "text/plain": [
       "<matplotlib.axes._subplots.AxesSubplot at 0x17ac2a28880>"
      ]
     },
     "execution_count": 41,
     "metadata": {},
     "output_type": "execute_result"
    },
    {
     "data": {
      "image/png": "[encoded data removed]",
      "text/plain": [
       "<Figure size 432x288 with 1 Axes>"
      ]
     },
     "metadata": {
      "needs_background": "light"
     },
     "output_type": "display_data"
    }
   ],
   "source": [
    "df.price_val.hist()"
   ]
  },
  {
   "cell_type": "code",
   "execution_count": 42,
   "metadata": {},
   "outputs": [
    {
     "data": {
      "text/plain": [
       "<matplotlib.axes._subplots.AxesSubplot at 0x17ac31f44c0>"
      ]
     },
     "execution_count": 42,
     "metadata": {},
     "output_type": "execute_result"
    },
    {
     "data": {
      "image/png": "[encoded data removed]",
      "text/plain": [
       "<Figure size 432x288 with 1 Axes>"
      ]
     },
     "metadata": {
      "needs_background": "light"
     },
     "output_type": "display_data"
    }
   ],
   "source": [
    "df.location_simp.hist()"
   ]
  },
  {
   "cell_type": "code",
   "execution_count": 43,
   "metadata": {},
   "outputs": [
    {
     "data": {
      "text/plain": [
       "<matplotlib.axes._subplots.AxesSubplot at 0x17ac326e2e0>"
      ]
     },
     "execution_count": 43,
     "metadata": {},
     "output_type": "execute_result"
    },
    {
     "data": {
      "image/png": "[encoded data removed]",
      "text/plain": [
       "<Figure size 432x288 with 1 Axes>"
      ]
     },
     "metadata": {
      "needs_background": "light"
     },
     "output_type": "display_data"
    }
   ],
   "source": [
    "df.description_simp.hist()"
   ]
  },
  {
   "cell_type": "code",
   "execution_count": 44,
   "metadata": {},
   "outputs": [
    {
     "data": {
      "text/plain": [
       "<matplotlib.axes._subplots.AxesSubplot at 0x17ac32cd400>"
      ]
     },
     "execution_count": 44,
     "metadata": {},
     "output_type": "execute_result"
    },
    {
     "data": {
      "image/png": "[encoded data removed]",
      "text/plain": [
       "<Figure size 432x288 with 1 Axes>"
      ]
     },
     "metadata": {
      "needs_background": "light"
     },
     "output_type": "display_data"
    }
   ],
   "source": [
    "df.decs_len.hist()"
   ]
  },
  {
   "cell_type": "code",
   "execution_count": 46,
   "metadata": {},
   "outputs": [
    {
     "data": {
      "text/plain": [
       "<matplotlib.axes._subplots.AxesSubplot at 0x17ac340d7f0>"
      ]
     },
     "execution_count": 46,
     "metadata": {},
     "output_type": "execute_result"
    },
    {
     "data": {
      "image/png": "[encoded data removed]",
      "text/plain": [
       "<Figure size 432x288 with 1 Axes>"
      ]
     },
     "metadata": {
      "needs_background": "light"
     },
     "output_type": "display_data"
    }
   ],
   "source": [
    "df.boxplot(column = ['price_val'])"
   ]
  },
  {
   "cell_type": "code",
   "execution_count": null,
   "metadata": {},
   "outputs": [],
   "source": []
  }
 ],
 "metadata": {
  "kernelspec": {
   "display_name": "Python 3",
   "language": "python",
   "name": "python3"
  },
  "language_info": {
   "codemirror_mode": {
    "name": "ipython",
    "version": 3
   },
   "file_extension": ".py",
   "mimetype": "text/x-python",
   "name": "python",
   "nbconvert_exporter": "python",
   "pygments_lexer": "ipython3",
   "version": "3.8.3"
  }
 },
 "nbformat": 4,
 "nbformat_minor": 4
}
